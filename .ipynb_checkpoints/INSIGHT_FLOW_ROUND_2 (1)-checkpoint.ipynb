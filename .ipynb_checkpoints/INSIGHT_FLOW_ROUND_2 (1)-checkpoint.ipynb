{
 "cells": [
  {
   "cell_type": "markdown",
   "id": "9472fba6",
   "metadata": {},
   "source": [
    "# DO some exploratory analsis to know the description about the dataset."
   ]
  },
  {
   "cell_type": "code",
   "execution_count": null,
   "id": "5160c906",
   "metadata": {},
   "outputs": [],
   "source": []
  },
  {
   "cell_type": "code",
   "execution_count": null,
   "id": "6f06e877",
   "metadata": {},
   "outputs": [],
   "source": []
  },
  {
   "cell_type": "code",
   "execution_count": null,
   "id": "67fcbea7",
   "metadata": {},
   "outputs": [],
   "source": []
  },
  {
   "cell_type": "markdown",
   "id": "6799eebd",
   "metadata": {},
   "source": [
    "# Question-1 : The total number of duplicated rows in the dataframe are:"
   ]
  },
  {
   "cell_type": "code",
   "execution_count": null,
   "id": "4faca5c3",
   "metadata": {},
   "outputs": [],
   "source": []
  },
  {
   "cell_type": "markdown",
   "id": "b10dccb1",
   "metadata": {},
   "source": [
    "# Question-2 : The total number of missing values in the dataframe are:"
   ]
  },
  {
   "cell_type": "code",
   "execution_count": null,
   "id": "3e36f06d",
   "metadata": {},
   "outputs": [],
   "source": []
  },
  {
   "cell_type": "markdown",
   "id": "d58a3833",
   "metadata": {},
   "source": [
    "# Question - 3 : What is the average age of the clients those who have not subscribed to deposit?"
   ]
  },
  {
   "cell_type": "code",
   "execution_count": null,
   "id": "d7302714",
   "metadata": {},
   "outputs": [],
   "source": []
  },
  {
   "cell_type": "markdown",
   "id": "6487a9f5",
   "metadata": {},
   "source": [
    "# Question - 4 :How many unemployed clients have not subscribed to deposit?"
   ]
  },
  {
   "cell_type": "code",
   "execution_count": null,
   "id": "613b5def",
   "metadata": {},
   "outputs": [],
   "source": []
  },
  {
   "cell_type": "markdown",
   "id": "252336c9",
   "metadata": {},
   "source": [
    "# Question - 5 : How many clients with personal loan has housing loan as well?"
   ]
  },
  {
   "cell_type": "code",
   "execution_count": null,
   "id": "24507d75",
   "metadata": {},
   "outputs": [],
   "source": []
  },
  {
   "cell_type": "markdown",
   "id": "eb8c4083",
   "metadata": {},
   "source": [
    "# Question - 6 : What is the percentage split of the categories in the column “deposit”?"
   ]
  },
  {
   "cell_type": "code",
   "execution_count": null,
   "id": "4937f965",
   "metadata": {},
   "outputs": [],
   "source": []
  },
  {
   "cell_type": "markdown",
   "id": "8a1b2771",
   "metadata": {},
   "source": [
    "# Question - 7 : What is the count of unique education levels in the data and find out how many clients have completed secondary education?\n"
   ]
  },
  {
   "cell_type": "code",
   "execution_count": null,
   "id": "0a40bd0f",
   "metadata": {},
   "outputs": [],
   "source": []
  },
  {
   "cell_type": "markdown",
   "id": "6e81fa52",
   "metadata": {},
   "source": [
    "# Question - 8 : make a pie chart of the column \"job\""
   ]
  },
  {
   "cell_type": "code",
   "execution_count": null,
   "id": "e038f5c9",
   "metadata": {},
   "outputs": [],
   "source": []
  },
  {
   "cell_type": "markdown",
   "id": "1c57d031",
   "metadata": {},
   "source": [
    "# Question - 9 : Create a heatmap or Sankey diagram to visualize the flow of customers between different account balance ranges over time."
   ]
  },
  {
   "cell_type": "code",
   "execution_count": null,
   "id": "c17d06a4",
   "metadata": {},
   "outputs": [],
   "source": []
  },
  {
   "cell_type": "markdown",
   "id": "311c05cd",
   "metadata": {},
   "source": [
    "# Question -10 : Generate a scatter plot of “age” and “balance”"
   ]
  },
  {
   "cell_type": "code",
   "execution_count": null,
   "id": "db773292",
   "metadata": {},
   "outputs": [],
   "source": []
  }
 ],
 "metadata": {
  "kernelspec": {
   "display_name": "Python 3 (ipykernel)",
   "language": "python",
   "name": "python3"
  },
  "language_info": {
   "codemirror_mode": {
    "name": "ipython",
    "version": 3
   },
   "file_extension": ".py",
   "mimetype": "text/x-python",
   "name": "python",
   "nbconvert_exporter": "python",
   "pygments_lexer": "ipython3",
   "version": "3.11.3"
  }
 },
 "nbformat": 4,
 "nbformat_minor": 5
}
